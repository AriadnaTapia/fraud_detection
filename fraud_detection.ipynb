{
 "cells": [
  {
   "cell_type": "markdown",
   "metadata": {},
   "source": [
    "# Detección de Fraudes en Transacciones con Tarjeta de Crédito  \n",
    "\n",
    "En la industria financiera, uno de los mayores retos es identificar transacciones fraudulentas en tiempo real. Aunque representan una fracción mínima del volumen total, su impacto económico y reputacional puede ser enorme. El desafío está en que los fraudes son poco frecuentes y, por lo tanto, los modelos deben ser lo suficientemente sensibles para detectarlos sin generar demasiados falsos positivos que incomoden a los clientes.  \n",
    "\n",
    "Este proyecto utiliza un conjunto de datos de transacciones con tarjeta de crédito, proporcionado por investigadores de la Université Libre de Bruxelles (ULB) y disponible públicamente en Kaggle. El dataset contiene más de **280,000 operaciones**, de las cuales solo un pequeño porcentaje corresponde a fraudes confirmados.  \n",
    "\n",
    "El objetivo es desarrollar un modelo de *machine learning* que:  \n",
    "- Analice patrones en las transacciones.  \n",
    "- Distinga entre operaciones legítimas y fraudulentas.  \n",
    "- Logre un balance entre detectar la mayor cantidad posible de fraudes y minimizar las alertas incorrectas.  \n",
    "\n",
    "Además de construir el modelo, se explorarán técnicas para enfrentar el desbalance de clases, se evaluará el desempeño con métricas adecuadas (como **ROC-AUC** y **curva Precision-Recall**), y se propondrá una estrategia que pueda servir como base para sistemas de detección en producción.  "
   ]
  },
  {
   "cell_type": "markdown",
   "metadata": {},
   "source": [
    "## Objetivos del proyecto  \n",
    "\n",
    "Para estructurar el trabajo, se plantean los siguientes objetivos específicos:  \n",
    "\n",
    "1. **Exploración de datos (EDA)**  \n",
    "   - Analizar la distribución de las transacciones.  \n",
    "   - Identificar la proporción de casos de fraude vs. no fraude.  \n",
    "   - Revisar patrones temporales y montos de transacción.  \n",
    "\n",
    "2. **Preprocesamiento y preparación**  \n",
    "   - Escalar y normalizar variables cuando sea necesario.  \n",
    "   - Tratar el desbalance de clases mediante técnicas como undersampling, oversampling o SMOTE.  \n",
    "   - Separar el dataset en conjuntos de entrenamiento y prueba.  \n",
    "\n",
    "3. **Modelado predictivo**  \n",
    "   - Probar algoritmos de clasificación como Regresión Logística, Random Forest y XGBoost.  \n",
    "   - Ajustar hiperparámetros básicos para mejorar el desempeño.  \n",
    "\n",
    "4. **Evaluación de resultados**  \n",
    "   - Utilizar métricas adecuadas para datos desbalanceados:  \n",
    "     - ROC-AUC  \n",
    "     - Precision, Recall, F1-score  \n",
    "     - Curva Precision-Recall  \n",
    "   - Comparar el desempeño de los modelos entrenados.  \n",
    "\n",
    "5. **Conclusiones y recomendaciones**  \n",
    "   - Identificar el modelo con mejor equilibrio entre detección de fraudes y reducción de falsos positivos.  \n",
    "   - Resumir aprendizajes clave del proceso.  \n",
    "   - Proponer mejoras o siguientes pasos para llevar el modelo hacia un entorno productivo.  \n"
   ]
  },
  {
   "cell_type": "code",
   "execution_count": 17,
   "metadata": {},
   "outputs": [
    {
     "name": "stdout",
     "output_type": "stream",
     "text": [
      "Requirement already satisfied: imbalanced-learn in /opt/anaconda3/lib/python3.12/site-packages (0.12.3)\n",
      "Requirement already satisfied: numpy>=1.17.3 in /opt/anaconda3/lib/python3.12/site-packages (from imbalanced-learn) (1.26.4)\n",
      "Requirement already satisfied: scipy>=1.5.0 in /opt/anaconda3/lib/python3.12/site-packages (from imbalanced-learn) (1.13.0)\n",
      "Requirement already satisfied: scikit-learn>=1.0.2 in /opt/anaconda3/lib/python3.12/site-packages (from imbalanced-learn) (1.5.1)\n",
      "Requirement already satisfied: joblib>=1.1.1 in /opt/anaconda3/lib/python3.12/site-packages (from imbalanced-learn) (1.4.2)\n",
      "Requirement already satisfied: threadpoolctl>=2.0.0 in /opt/anaconda3/lib/python3.12/site-packages (from imbalanced-learn) (3.5.0)\n"
     ]
    }
   ],
   "source": [
    "import warnings\n",
    "# Suppress all FutureWarnings\n",
    "warnings.simplefilter(action='ignore', category=FutureWarning)  \n",
    "import pandas as pd\n",
    "import numpy as np\n",
    "\n",
    "import matplotlib.pyplot as plt\n",
    "import seaborn as sns\n",
    "\n",
    "from sklearn.model_selection import train_test_split\n",
    "from sklearn.preprocessing import StandardScaler\n",
    "from sklearn.linear_model import LogisticRegression\n",
    "from sklearn.dummy import DummyClassifier\n",
    "from sklearn.metrics import (\n",
    "    classification_report,\n",
    "    confusion_matrix,\n",
    "    roc_auc_score,\n",
    "    roc_curve,\n",
    "    precision_recall_curve,\n",
    "    average_precision_score\n",
    ")\n",
    "\n",
    "from catboost import CatBoostClassifier\n",
    "from lightgbm import LGBMClassifier\n",
    "from sklearn.ensemble import RandomForestClassifier\n",
    "\n",
    "# Manejo de desbalance \n",
    "!pip install imbalanced-learn\n",
    "from imblearn.over_sampling import SMOTE\n",
    "from imblearn.pipeline import Pipeline\n",
    "\n",
    "RANDOM_STATE = 12345\n",
    "pd.set_option(\"display.max_columns\", None)"
   ]
  },
  {
   "cell_type": "markdown",
   "metadata": {},
   "source": [
    "## Carga del dataset\n",
    "\n",
    "Se utilizó el archivo `creditcard.csv`, que contiene más de 280,000 transacciones con tarjeta de crédito.  \n",
    "\n",
    "Cada registro incluye variables anonimizadas (`V1` a `V28`), así como las columnas `Time`, `Amount` y la variable objetivo `Class` (0 = transacción legítima, 1 = fraude).  \n",
    "\n"
   ]
  },
  {
   "cell_type": "code",
   "execution_count": 9,
   "metadata": {},
   "outputs": [],
   "source": [
    "credit_moves = pd.read_csv('creditcard.csv')\n"
   ]
  },
  {
   "cell_type": "markdown",
   "metadata": {},
   "source": [
    "## Exploración inicial de los datos\n",
    "\n",
    "Ahora que hemos cargado el dataset, es importante validar la información que contiene.\n",
    "\n",
    "Examinaremos la información utilizando los siguientes métodos de pandas:\n",
    "\n",
    "    - `head`: para visualizar las primeras filas y tener una idea general de los datos.\n",
    "\n",
    "    - `shape`: para conocer la cantidad de filas y columnas.\n",
    "\n",
    "    - `info()`: para revisar los tipos de datos y la presencia de valores nulos.\n",
    "    \n",
    "    - `describe()`: para obtener estadísticas básicas de las variables numéricas.\n",
    " \n",
    "Este análisis preliminar nos permitirá identificar si es necesario realizar correcciones, limpieza o un tratamiento adicional de los datos antes de continuar con el preprocesamiento.\n"
   ]
  },
  {
   "cell_type": "code",
   "execution_count": 22,
   "metadata": {},
   "outputs": [
    {
     "name": "stdout",
     "output_type": "stream",
     "text": [
      "            Time        V1        V2        V3        V4        V5        V6  \\\n",
      "31218    36264.0  1.422985 -0.259385 -0.236936 -0.585660 -0.356071 -0.571646   \n",
      "50803    44657.0  1.214212  0.222703  0.251855  0.653134 -0.287019 -0.628241   \n",
      "46640    42868.0  1.091382  0.005178 -0.268200  0.806423  0.301056  0.065710   \n",
      "138102   82487.0  1.236356  0.316577  0.195462  0.497558 -0.126584 -0.553109   \n",
      "184277  126177.0 -1.077808  1.951184 -1.782139 -0.332898  3.928864  3.611113   \n",
      "\n",
      "              V7        V8        V9       V10       V11       V12       V13  \\\n",
      "31218  -0.360588 -0.231945 -0.789753  0.076731 -0.645978 -0.105900  1.640898   \n",
      "50803  -0.072519  0.002590  0.208476 -0.291647 -0.051812 -0.311243 -0.976668   \n",
      "46640   0.260441 -0.069840 -0.290441  0.123457  0.356020  0.784431  0.674947   \n",
      "138102 -0.002164 -0.053158 -0.251119 -0.122422  1.391173  0.978287  0.505262   \n",
      "184277  0.541386 -0.774107 -1.107948 -1.429356  0.343498 -0.562868 -0.752442   \n",
      "\n",
      "             V14       V15       V16       V17       V18       V19       V20  \\\n",
      "31218  -1.694275 -0.036602  1.286875  0.921759 -1.155754  0.968734  0.235263   \n",
      "50803  -0.024135  1.476054  0.243145  0.338652 -0.601214 -0.546402 -0.189785   \n",
      "46640   0.431075  0.256829  0.572701 -1.128293  0.677522  0.322756  0.141773   \n",
      "138102 -0.171560  0.383898  0.756349 -0.392886  0.265743  0.212728 -0.039004   \n",
      "184277 -1.731432  0.099781 -0.195781  1.933104  0.629621 -0.152139 -0.274774   \n",
      "\n",
      "             V21       V22       V23       V24       V25       V26       V27  \\\n",
      "31218  -0.111010 -0.249349 -0.144335 -0.489284  0.632781 -0.255178  0.028035   \n",
      "50803  -0.274444 -0.813086  0.173080 -0.004082  0.104268  0.128515 -0.014184   \n",
      "46640   0.069160  0.017110 -0.350538 -0.818216  0.794568 -0.285319 -0.006797   \n",
      "138102 -0.253850 -0.752918  0.072474 -0.028529  0.240102  0.096265 -0.025354   \n",
      "184277  1.434897 -0.757827 -0.422291  0.478387  1.278137 -0.251997  0.142589   \n",
      "\n",
      "             V28  Amount  Class  \n",
      "31218   0.034934   25.30      0  \n",
      "50803   0.024673    0.99      0  \n",
      "46640   0.016726  103.95      0  \n",
      "138102  0.018008    1.98      0  \n",
      "184277  0.105995    2.00      0  \n"
     ]
    }
   ],
   "source": [
    "print(credit_moves.sample(5))"
   ]
  },
  {
   "cell_type": "code",
   "execution_count": 24,
   "metadata": {},
   "outputs": [
    {
     "name": "stdout",
     "output_type": "stream",
     "text": [
      "<class 'pandas.core.frame.DataFrame'>\n",
      "RangeIndex: 284807 entries, 0 to 284806\n",
      "Data columns (total 31 columns):\n",
      " #   Column  Non-Null Count   Dtype  \n",
      "---  ------  --------------   -----  \n",
      " 0   Time    284807 non-null  float64\n",
      " 1   V1      284807 non-null  float64\n",
      " 2   V2      284807 non-null  float64\n",
      " 3   V3      284807 non-null  float64\n",
      " 4   V4      284807 non-null  float64\n",
      " 5   V5      284807 non-null  float64\n",
      " 6   V6      284807 non-null  float64\n",
      " 7   V7      284807 non-null  float64\n",
      " 8   V8      284807 non-null  float64\n",
      " 9   V9      284807 non-null  float64\n",
      " 10  V10     284807 non-null  float64\n",
      " 11  V11     284807 non-null  float64\n",
      " 12  V12     284807 non-null  float64\n",
      " 13  V13     284807 non-null  float64\n",
      " 14  V14     284807 non-null  float64\n",
      " 15  V15     284807 non-null  float64\n",
      " 16  V16     284807 non-null  float64\n",
      " 17  V17     284807 non-null  float64\n",
      " 18  V18     284807 non-null  float64\n",
      " 19  V19     284807 non-null  float64\n",
      " 20  V20     284807 non-null  float64\n",
      " 21  V21     284807 non-null  float64\n",
      " 22  V22     284807 non-null  float64\n",
      " 23  V23     284807 non-null  float64\n",
      " 24  V24     284807 non-null  float64\n",
      " 25  V25     284807 non-null  float64\n",
      " 26  V26     284807 non-null  float64\n",
      " 27  V27     284807 non-null  float64\n",
      " 28  V28     284807 non-null  float64\n",
      " 29  Amount  284807 non-null  float64\n",
      " 30  Class   284807 non-null  int64  \n",
      "dtypes: float64(30), int64(1)\n",
      "memory usage: 67.4 MB\n",
      "None\n"
     ]
    }
   ],
   "source": [
    "print(credit_moves.info())"
   ]
  },
  {
   "cell_type": "code",
   "execution_count": 25,
   "metadata": {},
   "outputs": [
    {
     "name": "stdout",
     "output_type": "stream",
     "text": [
      "                Time            V1            V2            V3            V4  \\\n",
      "count  284807.000000  2.848070e+05  2.848070e+05  2.848070e+05  2.848070e+05   \n",
      "mean    94813.859575  1.168375e-15  3.416908e-16 -1.379537e-15  2.074095e-15   \n",
      "std     47488.145955  1.958696e+00  1.651309e+00  1.516255e+00  1.415869e+00   \n",
      "min         0.000000 -5.640751e+01 -7.271573e+01 -4.832559e+01 -5.683171e+00   \n",
      "25%     54201.500000 -9.203734e-01 -5.985499e-01 -8.903648e-01 -8.486401e-01   \n",
      "50%     84692.000000  1.810880e-02  6.548556e-02  1.798463e-01 -1.984653e-02   \n",
      "75%    139320.500000  1.315642e+00  8.037239e-01  1.027196e+00  7.433413e-01   \n",
      "max    172792.000000  2.454930e+00  2.205773e+01  9.382558e+00  1.687534e+01   \n",
      "\n",
      "                 V5            V6            V7            V8            V9  \\\n",
      "count  2.848070e+05  2.848070e+05  2.848070e+05  2.848070e+05  2.848070e+05   \n",
      "mean   9.604066e-16  1.487313e-15 -5.556467e-16  1.213481e-16 -2.406331e-15   \n",
      "std    1.380247e+00  1.332271e+00  1.237094e+00  1.194353e+00  1.098632e+00   \n",
      "min   -1.137433e+02 -2.616051e+01 -4.355724e+01 -7.321672e+01 -1.343407e+01   \n",
      "25%   -6.915971e-01 -7.682956e-01 -5.540759e-01 -2.086297e-01 -6.430976e-01   \n",
      "50%   -5.433583e-02 -2.741871e-01  4.010308e-02  2.235804e-02 -5.142873e-02   \n",
      "75%    6.119264e-01  3.985649e-01  5.704361e-01  3.273459e-01  5.971390e-01   \n",
      "max    3.480167e+01  7.330163e+01  1.205895e+02  2.000721e+01  1.559499e+01   \n",
      "\n",
      "                V10           V11           V12           V13           V14  \\\n",
      "count  2.848070e+05  2.848070e+05  2.848070e+05  2.848070e+05  2.848070e+05   \n",
      "mean   2.239053e-15  1.673327e-15 -1.247012e-15  8.190001e-16  1.207294e-15   \n",
      "std    1.088850e+00  1.020713e+00  9.992014e-01  9.952742e-01  9.585956e-01   \n",
      "min   -2.458826e+01 -4.797473e+00 -1.868371e+01 -5.791881e+00 -1.921433e+01   \n",
      "25%   -5.354257e-01 -7.624942e-01 -4.055715e-01 -6.485393e-01 -4.255740e-01   \n",
      "50%   -9.291738e-02 -3.275735e-02  1.400326e-01 -1.356806e-02  5.060132e-02   \n",
      "75%    4.539234e-01  7.395934e-01  6.182380e-01  6.625050e-01  4.931498e-01   \n",
      "max    2.374514e+01  1.201891e+01  7.848392e+00  7.126883e+00  1.052677e+01   \n",
      "\n",
      "                V15           V16           V17           V18           V19  \\\n",
      "count  2.848070e+05  2.848070e+05  2.848070e+05  2.848070e+05  2.848070e+05   \n",
      "mean   4.887456e-15  1.437716e-15 -3.772171e-16  9.564149e-16  1.039917e-15   \n",
      "std    9.153160e-01  8.762529e-01  8.493371e-01  8.381762e-01  8.140405e-01   \n",
      "min   -4.498945e+00 -1.412985e+01 -2.516280e+01 -9.498746e+00 -7.213527e+00   \n",
      "25%   -5.828843e-01 -4.680368e-01 -4.837483e-01 -4.988498e-01 -4.562989e-01   \n",
      "50%    4.807155e-02  6.641332e-02 -6.567575e-02 -3.636312e-03  3.734823e-03   \n",
      "75%    6.488208e-01  5.232963e-01  3.996750e-01  5.008067e-01  4.589494e-01   \n",
      "max    8.877742e+00  1.731511e+01  9.253526e+00  5.041069e+00  5.591971e+00   \n",
      "\n",
      "                V20           V21           V22           V23           V24  \\\n",
      "count  2.848070e+05  2.848070e+05  2.848070e+05  2.848070e+05  2.848070e+05   \n",
      "mean   6.406204e-16  1.654067e-16 -3.568593e-16  2.578648e-16  4.473266e-15   \n",
      "std    7.709250e-01  7.345240e-01  7.257016e-01  6.244603e-01  6.056471e-01   \n",
      "min   -5.449772e+01 -3.483038e+01 -1.093314e+01 -4.480774e+01 -2.836627e+00   \n",
      "25%   -2.117214e-01 -2.283949e-01 -5.423504e-01 -1.618463e-01 -3.545861e-01   \n",
      "50%   -6.248109e-02 -2.945017e-02  6.781943e-03 -1.119293e-02  4.097606e-02   \n",
      "75%    1.330408e-01  1.863772e-01  5.285536e-01  1.476421e-01  4.395266e-01   \n",
      "max    3.942090e+01  2.720284e+01  1.050309e+01  2.252841e+01  4.584549e+00   \n",
      "\n",
      "                V25           V26           V27           V28         Amount  \\\n",
      "count  2.848070e+05  2.848070e+05  2.848070e+05  2.848070e+05  284807.000000   \n",
      "mean   5.340915e-16  1.683437e-15 -3.660091e-16 -1.227390e-16      88.349619   \n",
      "std    5.212781e-01  4.822270e-01  4.036325e-01  3.300833e-01     250.120109   \n",
      "min   -1.029540e+01 -2.604551e+00 -2.256568e+01 -1.543008e+01       0.000000   \n",
      "25%   -3.171451e-01 -3.269839e-01 -7.083953e-02 -5.295979e-02       5.600000   \n",
      "50%    1.659350e-02 -5.213911e-02  1.342146e-03  1.124383e-02      22.000000   \n",
      "75%    3.507156e-01  2.409522e-01  9.104512e-02  7.827995e-02      77.165000   \n",
      "max    7.519589e+00  3.517346e+00  3.161220e+01  3.384781e+01   25691.160000   \n",
      "\n",
      "               Class  \n",
      "count  284807.000000  \n",
      "mean        0.001727  \n",
      "std         0.041527  \n",
      "min         0.000000  \n",
      "25%         0.000000  \n",
      "50%         0.000000  \n",
      "75%         0.000000  \n",
      "max         1.000000  \n"
     ]
    }
   ],
   "source": [
    "print(credit_moves.describe())"
   ]
  },
  {
   "cell_type": "code",
   "execution_count": 26,
   "metadata": {},
   "outputs": [
    {
     "name": "stdout",
     "output_type": "stream",
     "text": [
      "Número de registros duplicados: 1081\n"
     ]
    }
   ],
   "source": [
    "# Revisión de duplicados\n",
    "duplicados = credit_moves.duplicated().sum()\n",
    "print(f\"Número de registros duplicados: {duplicados}\")\n"
   ]
  },
  {
   "cell_type": "code",
   "execution_count": 27,
   "metadata": {},
   "outputs": [
    {
     "data": {
      "text/plain": [
       "['time', 'v1', 'v2', 'v3', 'v4', 'v5', 'v6', 'v7', 'v8', 'v9']"
      ]
     },
     "execution_count": 27,
     "metadata": {},
     "output_type": "execute_result"
    }
   ],
   "source": [
    "# Estandarizar nombres de columnas a minúsculas\n",
    "credit_moves.columns = credit_moves.columns.str.lower()\n",
    "credit_moves.columns.tolist()[:10]"
   ]
  },
  {
   "cell_type": "markdown",
   "metadata": {},
   "source": [
    "## Eliminación de duplicados\n",
    "\n",
    "Se identificaron 1,081 registros duplicados en el dataset.  \n",
    "Dado que cada transacción debería ser única, estos registros serán eliminados para asegurar la calidad de los datos.\n"
   ]
  },
  {
   "cell_type": "code",
   "execution_count": 28,
   "metadata": {},
   "outputs": [
    {
     "data": {
      "text/plain": [
       "(283726, 31)"
      ]
     },
     "execution_count": 28,
     "metadata": {},
     "output_type": "execute_result"
    }
   ],
   "source": [
    "# Eliminar duplicados\n",
    "credit_moves = credit_moves.drop_duplicates()\n",
    "\n",
    "# Confirmar la nueva forma del dataset\n",
    "credit_moves.shape\n"
   ]
  },
  {
   "cell_type": "code",
   "execution_count": 29,
   "metadata": {},
   "outputs": [
    {
     "name": "stdout",
     "output_type": "stream",
     "text": [
      "Número de registros duplicados: 0\n"
     ]
    }
   ],
   "source": [
    "# Revisión de duplicados\n",
    "duplicados_2 = credit_moves.duplicated().sum()\n",
    "print(f\"Número de registros duplicados: {duplicados_2}\")"
   ]
  },
  {
   "cell_type": "markdown",
   "metadata": {},
   "source": [
    "- El dataset contiene **283,726 registros** y **31 columnas** después de eliminar **1,081 duplicados**.  \n",
    "- Todas las variables numéricas (`float64`) y la variable objetivo `class` (`int64`) están completas: **no se detectaron valores ausentes**.  \n",
    "- Las columnas `v1` a `v28` ya se encuentran transformadas (valores centrados en 0 con distintas escalas).  \n",
    "- Los nombres de las columnas fueron estandarizados a **minúsculas**, mejorando la consistencia y legibilidad del dataset.  \n",
    "- Con estas validaciones, los datos presentan buena calidad para continuar hacia el **análisis del target (`class`)** y el preprocesamiento previo al modelado. "
   ]
  },
  {
   "cell_type": "markdown",
   "metadata": {},
   "source": [
    "**Exploración de datos (EDA)**  "
   ]
  },
  {
   "cell_type": "markdown",
   "metadata": {},
   "source": [
    "## Análisis del balance de clases\n",
    "\n",
    "Antes de avanzar al modelado, es fundamental analizar la distribución de la variable objetivo `class`.  \n",
    "Esto nos permitirá confirmar si existe un desbalance significativo entre transacciones legítimas (0) y fraudulentas (1), lo cual es un reto común en problemas de detección de fraude."
   ]
  },
  {
   "cell_type": "code",
   "execution_count": 30,
   "metadata": {},
   "outputs": [
    {
     "name": "stdout",
     "output_type": "stream",
     "text": [
      "Distribución absoluta:\n",
      " class\n",
      "0    283253\n",
      "1       473\n",
      "Name: count, dtype: int64\n",
      "\n",
      "Distribución relativa (%):\n",
      " class\n",
      "0    99.8333\n",
      "1     0.1667\n",
      "Name: proportion, dtype: float64\n"
     ]
    },
    {
     "data": {
      "image/png": "[encoded data removed]",
      "text/plain": [
       "<Figure size 500x400 with 1 Axes>"
      ]
     },
     "metadata": {},
     "output_type": "display_data"
    }
   ],
   "source": [
    "# Distribución absoluta y relativa de la variable objetivo\n",
    "class_counts = credit_moves['class'].value_counts()\n",
    "class_ratio = credit_moves['class'].value_counts(normalize=True)\n",
    "\n",
    "print(\"Distribución absoluta:\\n\", class_counts)\n",
    "print(\"\\nDistribución relativa (%):\\n\", (class_ratio * 100).round(4))\n",
    "\n",
    "# Gráfica de la distribución\n",
    "plt.figure(figsize=(5,4))\n",
    "sns.barplot(x=class_counts.index, y=class_counts.values, palette=\"viridis\")\n",
    "plt.title(\"Distribución de la variable objetivo (Class)\")\n",
    "plt.xlabel(\"Clase (0 = legítima, 1 = fraude)\")\n",
    "plt.ylabel(\"Número de transacciones\")\n",
    "plt.show()\n"
   ]
  },
  {
   "cell_type": "markdown",
   "metadata": {},
   "source": [
    "- La variable objetivo `class` presenta un **desbalance muy marcado**:  \n",
    "  - **283,253 transacciones legítimas** (≈ 99.83%)  \n",
    "  - **473 transacciones fraudulentas** (≈ 0.17%)  \n",
    "- Este desbalance implica que un modelo que predijera siempre la clase \"0\" alcanzaría una exactitud (accuracy) casi perfecta, pero **no tendría utilidad práctica** para detectar fraudes.  \n",
    "- Por lo tanto, será necesario:  \n",
    "  - Usar métricas adecuadas (ROC-AUC, Precision, Recall, F1, curva Precision-Recall).  \n",
    "  - Aplicar estrategias de tratamiento del desbalance (class_weight, undersampling, oversampling o SMOTE).  \n",
    "- Identificar y tratar este problema desde el inicio es crucial para desarrollar un modelo que aporte valor real en la detección de fraudes.\n"
   ]
  },
  {
   "cell_type": "markdown",
   "metadata": {},
   "source": [
    "## Análisis de patrones temporales y montos de transacción\n",
    "\n",
    "Además del balance de clases, es importante revisar cómo se distribuyen las variables `time` y `amount`.  \n",
    "- `time` indica los segundos transcurridos desde la primera transacción registrada.  \n",
    "- `amount` refleja el valor monetario de la operación.  \n",
    "\n",
    "Explorar estas variables nos permitirá identificar posibles patrones de comportamiento, detectar outliers y considerar si requieren transformaciones adicionales.\n"
   ]
  },
  {
   "cell_type": "code",
   "execution_count": 31,
   "metadata": {},
   "outputs": [
    {
     "data": {
      "image/png": "[encoded data removed]",
      "text/plain": [
       "<Figure size 600x400 with 1 Axes>"
      ]
     },
     "metadata": {},
     "output_type": "display_data"
    },
    {
     "data": {
      "image/png": "[encoded data removed]",
      "text/plain": [
       "<Figure size 600x400 with 1 Axes>"
      ]
     },
     "metadata": {},
     "output_type": "display_data"
    },
    {
     "data": {
      "text/html": [
       "<div>\n",
       "<style scoped>\n",
       "    .dataframe tbody tr th:only-of-type {\n",
       "        vertical-align: middle;\n",
       "    }\n",
       "\n",
       "    .dataframe tbody tr th {\n",
       "        vertical-align: top;\n",
       "    }\n",
       "\n",
       "    .dataframe thead th {\n",
       "        text-align: right;\n",
       "    }\n",
       "</style>\n",
       "<table border=\"1\" class=\"dataframe\">\n",
       "  <thead>\n",
       "    <tr style=\"text-align: right;\">\n",
       "      <th></th>\n",
       "      <th>count</th>\n",
       "      <th>mean</th>\n",
       "      <th>std</th>\n",
       "      <th>min</th>\n",
       "      <th>25%</th>\n",
       "      <th>50%</th>\n",
       "      <th>75%</th>\n",
       "      <th>max</th>\n",
       "    </tr>\n",
       "    <tr>\n",
       "      <th>class</th>\n",
       "      <th></th>\n",
       "      <th></th>\n",
       "      <th></th>\n",
       "      <th></th>\n",
       "      <th></th>\n",
       "      <th></th>\n",
       "      <th></th>\n",
       "      <th></th>\n",
       "    </tr>\n",
       "  </thead>\n",
       "  <tbody>\n",
       "    <tr>\n",
       "      <th>0</th>\n",
       "      <td>283253.0</td>\n",
       "      <td>88.413575</td>\n",
       "      <td>250.379023</td>\n",
       "      <td>0.0</td>\n",
       "      <td>5.67</td>\n",
       "      <td>22.00</td>\n",
       "      <td>77.46</td>\n",
       "      <td>25691.16</td>\n",
       "    </tr>\n",
       "    <tr>\n",
       "      <th>1</th>\n",
       "      <td>473.0</td>\n",
       "      <td>123.871860</td>\n",
       "      <td>260.211041</td>\n",
       "      <td>0.0</td>\n",
       "      <td>1.00</td>\n",
       "      <td>9.82</td>\n",
       "      <td>105.89</td>\n",
       "      <td>2125.87</td>\n",
       "    </tr>\n",
       "  </tbody>\n",
       "</table>\n",
       "</div>"
      ],
      "text/plain": [
       "          count        mean         std  min   25%    50%     75%       max\n",
       "class                                                                      \n",
       "0      283253.0   88.413575  250.379023  0.0  5.67  22.00   77.46  25691.16\n",
       "1         473.0  123.871860  260.211041  0.0  1.00   9.82  105.89   2125.87"
      ]
     },
     "execution_count": 31,
     "metadata": {},
     "output_type": "execute_result"
    }
   ],
   "source": [
    "# Distribución de la variable Time\n",
    "plt.figure(figsize=(6,4))\n",
    "sns.histplot(credit_moves['time'], bins=60, kde=False)\n",
    "plt.title(\"Distribución de Time (segundos desde la primera transacción)\")\n",
    "plt.xlabel(\"Tiempo (segundos)\")\n",
    "plt.ylabel(\"Frecuencia\")\n",
    "plt.show()\n",
    "\n",
    "# Distribución de la variable Amount\n",
    "plt.figure(figsize=(6,4))\n",
    "sns.histplot(credit_moves['amount'], bins=100, log_scale=(False, True))\n",
    "plt.title(\"Distribución de Amount (escala log en Y)\")\n",
    "plt.xlabel(\"Monto de transacción\")\n",
    "plt.ylabel(\"Frecuencia (escala log)\")\n",
    "plt.show()\n",
    "\n",
    "# Estadísticas resumidas de Amount por clase\n",
    "credit_moves.groupby('class')['amount'].describe()\n"
   ]
  },
  {
   "cell_type": "markdown",
   "metadata": {},
   "source": [
    "## Conclusiones del análisis exploratorio (EDA)\n",
    "\n",
    "- **Balance de clases:** existe un desbalance extremo:  \n",
    "  - 283,253 transacciones legítimas (≈ 99.83%)  \n",
    "  - 473 transacciones fraudulentas (≈ 0.17%)  \n",
    "\n",
    "- **Variable `time`:** la distribución muestra varios intervalos de actividad y pausas claras, lo que sugiere que las transacciones se registraron a lo largo de diferentes periodos (p. ej., ciclos de trabajo). Esto puede ser útil para identificar patrones temporales, aunque `time` no parece seguir una tendencia uniforme.\n",
    "\n",
    "- **Variable `amount`:**  \n",
    "  - La mayoría de las transacciones son de montos pequeños.  \n",
    "  - Existen algunos outliers de montos altos (hasta 25,691 en transacciones legítimas).  \n",
    "  - En promedio, los fraudes tienen un monto mayor (≈ 124) que las transacciones legítimas (≈ 88), aunque el rango es más acotado (máx. fraude ≈ 2,126).  \n",
    "  - Esto sugiere que el monto podría aportar información útil al modelo, pero con cuidado ante la presencia de valores extremos.\n",
    "\n",
    "- **En general:** los datos ya están limpios, sin valores ausentes y sin duplicados. La exploración confirma el reto principal: el desbalance extremo del target y la necesidad de un preprocesamiento cuidadoso antes del modelado.\n"
   ]
  },
  {
   "cell_type": "markdown",
   "metadata": {},
   "source": [
    "## Preprocesamiento y preparación\n",
    "\n",
    "En esta etapa se realizarán los siguientes pasos:\n",
    "\n",
    "1. **Escalado de variables `time` y `amount`**  \n",
    "   - Las variables `v1` a `v28` ya están transformadas y no requieren cambios.  \n",
    "   - Sin embargo, `time` y `amount` no se encuentran en la misma escala, por lo que se normalizarán para evitar que dominen en el modelado.\n",
    "\n",
    "2. **Tratamiento del desbalance de clases**  \n",
    "   - Dado que solo el 0.17% de las transacciones son fraudulentas, se aplicarán estrategias para compensar este desbalance.  \n",
    "   - Como primer paso se utilizará la opción `class_weight=\"balanced\"` en algunos algoritmos.  \n",
    "   - Más adelante, se probarán técnicas como **undersampling**, **oversampling** o **SMOTE**.\n",
    "\n",
    "3. **Separación en conjuntos de entrenamiento y prueba**  \n",
    "   - El dataset se dividirá en *train* (80%) y *test* (20%) de manera estratificada, asegurando que la proporción de fraudes se mantenga en ambos conjuntos.\n"
   ]
  },
  {
   "cell_type": "code",
   "execution_count": 32,
   "metadata": {},
   "outputs": [
    {
     "name": "stdout",
     "output_type": "stream",
     "text": [
      "Train: (226980, 30) Fraude: 0.0016653449643140364\n",
      "Test : (56746, 30) Fraude: 0.0016741268107003137\n"
     ]
    }
   ],
   "source": [
    "# Features y target\n",
    "X = credit_moves.drop(columns=['class'])\n",
    "y = credit_moves['class']\n",
    "\n",
    "# Escalado de 'time' y 'amount'\n",
    "scaler = StandardScaler()\n",
    "X[['time', 'amount']] = scaler.fit_transform(X[['time', 'amount']])\n",
    "\n",
    "# Separación train/test estratificada\n",
    "X_train, X_test, y_train, y_test = train_test_split(\n",
    "    X, y, test_size=0.2, random_state=RANDOM_STATE, stratify=y\n",
    ")\n",
    "\n",
    "# Confirmar tamaños y proporción de fraude en train y test\n",
    "print(\"Train:\", X_train.shape, \"Fraude:\", y_train.mean())\n",
    "print(\"Test :\", X_test.shape, \"Fraude:\", y_test.mean())\n"
   ]
  },
  {
   "cell_type": "markdown",
   "metadata": {},
   "source": [
    "- Se normalizaron las variables `time` y `amount` para llevarlas a la misma escala que el resto de las features (`v1` a `v28`), evitando que dominen en el modelado.  \n",
    "- El dataset se dividió en entrenamiento (**226,980 registros**) y prueba (**56,746 registros**) manteniendo la proporción de fraudes gracias al muestreo estratificado.  \n",
    "  - Proporción de fraude en *train*: ≈ 0.167%  \n",
    "  - Proporción de fraude en *test*: ≈ 0.167%  \n",
    "- El desbalance extremo de la variable objetivo persiste, lo que confirma la necesidad de aplicar técnicas adicionales (ejemplo: `class_weight`, SMOTE, undersampling) en la etapa de modelado.  \n",
    "- Con esta preparación, los datos están listos para iniciar la construcción de los modelos predictivos.  \n"
   ]
  },
  {
   "cell_type": "markdown",
   "metadata": {},
   "source": [
    "## Modelado predictivo: Baseline\n",
    "\n",
    "Antes de probar modelos más complejos, se construyen baselines que permitan medir el desempeño mínimo esperado:\n",
    "\n",
    "1. **DummyClassifier**  \n",
    "   - Estrategia: predecir siempre la clase mayoritaria (no fraude).  \n",
    "   - Objetivo: establecer una métrica de referencia.  \n",
    "   - Métrica clave: ROC-AUC y PR-AUC (más informativas que accuracy en datasets desbalanceados).\n",
    "\n",
    "2. **Regresión Logística (class_weight=\"balanced\")**  \n",
    "   - Algoritmo lineal simple, ajusta pesos automáticamente para compensar el desbalance.  \n",
    "   - Proporciona un primer modelo predictivo real para comparar contra el Dummy.  \n"
   ]
  },
  {
   "cell_type": "code",
   "execution_count": 33,
   "metadata": {},
   "outputs": [
    {
     "name": "stdout",
     "output_type": "stream",
     "text": [
      "DummyClassifier:\n",
      "ROC-AUC: 0.5\n",
      "PR-AUC : 0.0016741268107003137\n",
      "----------------------------------------\n",
      "Regresión Logística (balanced):\n",
      "ROC-AUC: 0.9724057456132609\n",
      "PR-AUC : 0.7503295527296806\n"
     ]
    }
   ],
   "source": [
    "# Modelo Dummy\n",
    "dummy = DummyClassifier(strategy=\"most_frequent\", random_state=RANDOM_STATE)\n",
    "dummy.fit(X_train, y_train)\n",
    "y_proba_dummy = dummy.predict_proba(X_test)[:,1]\n",
    "\n",
    "print(\"DummyClassifier:\")\n",
    "print(\"ROC-AUC:\", roc_auc_score(y_test, y_proba_dummy))\n",
    "print(\"PR-AUC :\", average_precision_score(y_test, y_proba_dummy))\n",
    "print(\"-\"*40)\n",
    "\n",
    "# Regresión Logística con class_weight=\"balanced\"\n",
    "log_reg = LogisticRegression(\n",
    "    class_weight=\"balanced\", \n",
    "    max_iter=200, \n",
    "    random_state=RANDOM_STATE,\n",
    "    n_jobs=-1\n",
    ")\n",
    "log_reg.fit(X_train, y_train)\n",
    "y_proba_lr = log_reg.predict_proba(X_test)[:,1]\n",
    "\n",
    "print(\"Regresión Logística (balanced):\")\n",
    "print(\"ROC-AUC:\", roc_auc_score(y_test, y_proba_lr))\n",
    "print(\"PR-AUC :\", average_precision_score(y_test, y_proba_lr))\n"
   ]
  },
  {
   "cell_type": "markdown",
   "metadata": {},
   "source": [
    "- **DummyClassifier**  \n",
    "  - ROC-AUC = 0.50 → desempeño equivalente al azar.  \n",
    "  - PR-AUC ≈ 0.0017 → igual a la proporción de fraude en el dataset.  \n",
    "  - Confirma que la métrica accuracy no es adecuada en problemas desbalanceados.\n",
    "\n",
    "- **Regresión Logística (class_weight=\"balanced\")**  \n",
    "  - ROC-AUC ≈ 0.972 → excelente capacidad de discriminación entre fraudes y no fraudes.  \n",
    "  - PR-AUC ≈ 0.75 → muy buen balance entre precisión y recall en un contexto de clases altamente desbalanceadas.  \n",
    "  - Este modelo simple ya ofrece resultados sólidos y servirá como referencia para comparar con algoritmos más complejos.\n",
    "\n",
    "- **Conclusión general**  \n",
    "  - El baseline demuestra que incluso con un algoritmo lineal, el dataset contiene información suficiente para detectar patrones de fraude.  \n",
    "  - Los siguientes pasos serán evaluar modelos más robustos (Random Forest, LightGBM, CatBoost) y comparar su rendimiento frente a la Regresión Logística.\n"
   ]
  },
  {
   "cell_type": "markdown",
   "metadata": {},
   "source": [
    "## Modelo 2: Random Forest\n",
    "\n",
    "Se entrena un **Random Forest Classifier** utilizando `class_weight=\"balanced\"` para compensar el desbalance de clases.  \n",
    "Este modelo ensambla múltiples árboles de decisión y suele ser robusto para detectar patrones complejos.  \n",
    "\n",
    "Métricas a evaluar:  \n",
    "- **ROC-AUC**: capacidad global de discriminación.  \n",
    "- **PR-AUC**: útil en datasets desbalanceados, mide el balance entre precisión y recall.  \n",
    "- **Classification report**: métricas por clase.  \n",
    "- **Matriz de confusión**: análisis de falsos positivos y falsos negativos.\n"
   ]
  },
  {
   "cell_type": "code",
   "execution_count": 34,
   "metadata": {},
   "outputs": [
    {
     "name": "stdout",
     "output_type": "stream",
     "text": [
      "Random Forest:\n",
      "ROC-AUC: 0.9661416298685674\n",
      "PR-AUC : 0.8190655056080409\n",
      "\n",
      "Classification Report:\n",
      "               precision    recall  f1-score   support\n",
      "\n",
      "           0     0.9996    0.9999    0.9998     56651\n",
      "           1     0.9467    0.7474    0.8353        95\n",
      "\n",
      "    accuracy                         0.9995     56746\n",
      "   macro avg     0.9731    0.8736    0.9175     56746\n",
      "weighted avg     0.9995    0.9995    0.9995     56746\n",
      "\n"
     ]
    },
    {
     "data": {
      "image/png": "[encoded data removed]",
      "text/plain": [
       "<Figure size 400x300 with 2 Axes>"
      ]
     },
     "metadata": {},
     "output_type": "display_data"
    }
   ],
   "source": [
    "# Entrenar Random Forest\n",
    "rf = RandomForestClassifier(\n",
    "    n_estimators=200,\n",
    "    max_depth=None,\n",
    "    class_weight=\"balanced\",\n",
    "    random_state=RANDOM_STATE,\n",
    "    n_jobs=-1\n",
    ")\n",
    "rf.fit(X_train, y_train)\n",
    "\n",
    "# Predicciones\n",
    "y_proba_rf = rf.predict_proba(X_test)[:,1]\n",
    "y_pred_rf = rf.predict(X_test)\n",
    "\n",
    "# Métricas\n",
    "print(\"Random Forest:\")\n",
    "print(\"ROC-AUC:\", roc_auc_score(y_test, y_proba_rf))\n",
    "print(\"PR-AUC :\", average_precision_score(y_test, y_proba_rf))\n",
    "print(\"\\nClassification Report:\\n\", classification_report(y_test, y_pred_rf, digits=4))\n",
    "\n",
    "# Matriz de confusión\n",
    "cm = confusion_matrix(y_test, y_pred_rf)\n",
    "plt.figure(figsize=(4,3))\n",
    "sns.heatmap(cm, annot=True, fmt=\"d\", cmap=\"Blues\")\n",
    "plt.title(\"Matriz de confusión - Random Forest\")\n",
    "plt.xlabel(\"Predicción\")\n",
    "plt.ylabel(\"Real\")\n",
    "plt.show()\n"
   ]
  },
  {
   "cell_type": "markdown",
   "metadata": {},
   "source": [
    "## Resultados del modelo Random Forest\n",
    "\n",
    "El modelo **Random Forest** mostró un rendimiento general muy alto, con métricas sobresalientes tanto en precisión como en recall para la clase mayoritaria. Sin embargo, el comportamiento del modelo sugiere un posible **sobreajuste**, ya que la precisión es casi perfecta en la clase 0 (transacciones legítimas), mientras que el desempeño en la clase minoritaria (fraudes) presenta un leve descenso.\n",
    "\n",
    "**Métricas principales:**\n",
    "- **ROC-AUC:** 0.966  \n",
    "- **PR-AUC:** 0.819  \n",
    "- **Precisión (fraudes):** 0.9467  \n",
    "- **Recall (fraudes):** 0.7474  \n",
    "- **F1-score (fraudes):** 0.8353  \n",
    "\n",
    "**Matriz de confusión:**\n",
    "- Verdaderos negativos: 56,647  \n",
    "- Falsos positivos: 4  \n",
    "- Falsos negativos: 24  \n",
    "- Verdaderos positivos: 71  \n",
    "\n",
    "**Análisis:**\n",
    "- El modelo identifica correctamente la mayoría de los fraudes, aunque **aún deja escapar algunos casos (falsos negativos)**, lo que puede ser crítico en un entorno real.  \n",
    "- La precisión casi perfecta y el alto ROC-AUC podrían indicar que el modelo está **demasiado adaptado al conjunto de entrenamiento**, reflejando un **sobreajuste**.  \n",
    "- Dado el fuerte desbalance del dataset (solo 0.17% de fraudes), este comportamiento es esperable en modelos de tipo ensemble sin un ajuste específico.\n",
    "\n",
    "**Conclusión:**\n",
    "El Random Forest ofrece un excelente punto de partida, pero sugiere **sobreajuste y sensibilidad limitada a la clase minoritaria**.  \n",
    "En las siguientes etapas, se evaluarán **otros modelos más robustos al desbalance**, como **LightGBM** y **CatBoost**, para comparar su capacidad de detección de fraudes y su estabilidad en general.\n"
   ]
  },
  {
   "cell_type": "markdown",
   "metadata": {},
   "source": [
    "## Modelo LightGBM\n",
    "\n",
    "El algoritmo **LightGBM (Light Gradient Boosting Machine)** se utiliza para abordar el mismo problema de detección de fraude, aprovechando su eficiencia y capacidad para manejar datasets grandes y desbalanceados.  \n",
    "\n",
    "A diferencia de Random Forest, LightGBM entrena los árboles de manera secuencial optimizando el gradiente, lo que suele mejorar la detección de clases minoritarias con un tiempo de entrenamiento menor.  \n",
    "\n",
    "Además, se mantiene el parámetro `class_weight='balanced'` para compensar la desproporción entre clases.  \n",
    "\n",
    "A continuación, se entrena el modelo y se evalúan sus métricas principales.\n"
   ]
  },
  {
   "cell_type": "code",
   "execution_count": 40,
   "metadata": {},
   "outputs": [
    {
     "name": "stdout",
     "output_type": "stream",
     "text": [
      "[LightGBM] [Info] Number of positive: 378, number of negative: 226602\n",
      "[LightGBM] [Info] Auto-choosing row-wise multi-threading, the overhead of testing was 0.005206 seconds.\n",
      "You can set `force_row_wise=true` to remove the overhead.\n",
      "And if memory is not enough, you can set `force_col_wise=true`.\n",
      "[LightGBM] [Info] Total Bins 7650\n",
      "[LightGBM] [Info] Number of data points in the train set: 226980, number of used features: 30\n",
      "[LightGBM] [Info] [binary:BoostFromScore]: pavg=0.500000 -> initscore=0.000000\n",
      "[LightGBM] [Info] Start training from score 0.000000\n",
      "ROC-AUC: 0.9770710602033318\n",
      "PR-AUC : 0.7964997014522435\n",
      "\n",
      "Classification Report:\n",
      "               precision    recall  f1-score   support\n",
      "\n",
      "           0     0.9996    0.9999    0.9997     56651\n",
      "           1     0.8987    0.7474    0.8161        95\n",
      "\n",
      "    accuracy                         0.9994     56746\n",
      "   macro avg     0.9492    0.8736    0.9079     56746\n",
      "weighted avg     0.9994    0.9994    0.9994     56746\n",
      "\n"
     ]
    },
    {
     "data": {
      "image/png": "[encoded data removed]",
      "text/plain": [
       "<Figure size 400x300 with 2 Axes>"
      ]
     },
     "metadata": {},
     "output_type": "display_data"
    }
   ],
   "source": [
    "# Entrenamiento del modelo LightGBM\n",
    "lgbm_model = LGBMClassifier(\n",
    "    n_estimators=300,\n",
    "    learning_rate=0.05,\n",
    "    num_leaves=31,\n",
    "    class_weight='balanced',\n",
    "    random_state=RANDOM_STATE,\n",
    "    n_jobs=-1\n",
    ")\n",
    "\n",
    "lgbm_model.fit(X_train, y_train)\n",
    "\n",
    "# Predicciones\n",
    "y_proba_lgbm = lgbm_model.predict_proba(X_test)[:, 1]\n",
    "y_pred_lgbm = lgbm_model.predict(X_test)\n",
    "\n",
    "# Métricas\n",
    "roc_auc = roc_auc_score(y_test, y_proba_lgbm)\n",
    "pr_auc = average_precision_score(y_test, y_proba_lgbm)\n",
    "\n",
    "print(f\"ROC-AUC: {roc_auc}\")\n",
    "print(f\"PR-AUC : {pr_auc}\\n\")\n",
    "print(\"Classification Report:\\n\", classification_report(y_test, y_pred_lgbm, digits=4))\n",
    "\n",
    "# Matriz de confusión\n",
    "cm = confusion_matrix(y_test, y_pred_lgbm)\n",
    "plt.figure(figsize=(4,3))\n",
    "sns.heatmap(cm, annot=True, fmt=\"d\", cmap=\"Blues\")\n",
    "plt.title(\"Matriz de confusión - LightGBM\")\n",
    "plt.xlabel(\"Predicción\")\n",
    "plt.ylabel(\"Real\")\n",
    "plt.show()\n"
   ]
  },
  {
   "cell_type": "markdown",
   "metadata": {},
   "source": [
    "## Resultados del modelo LightGBM\n",
    "\n",
    "El modelo **LightGBM** obtuvo resultados comparables al Random Forest, manteniendo una precisión muy alta y un buen nivel de recall en la detección de fraudes.  \n",
    "\n",
    "**Métricas principales:**\n",
    "- **Precisión (fraudes):** 0.8987  \n",
    "- **Recall (fraudes):** 0.7474  \n",
    "- **F1-score (fraudes):** 0.8161  \n",
    "- **Accuracy general:** 0.9994  \n",
    "\n",
    "**Matriz de confusión:**\n",
    "- Verdaderos negativos: 56,643  \n",
    "- Falsos positivos: 8  \n",
    "- Falsos negativos: 24  \n",
    "- Verdaderos positivos: 71  \n",
    "\n",
    "**Análisis:**\n",
    "- LightGBM mantiene un excelente equilibrio entre precisión y recall.  \n",
    "- Aunque el recall para la clase fraudulenta se mantiene alrededor de 0.74, el modelo genera un número ligeramente mayor de falsos positivos (8 frente a 4 en Random Forest).  \n",
    "- Esto indica que LightGBM es **más sensible a posibles fraudes**, sacrificando un poco de precisión para mejorar la detección, lo cual puede ser deseable en contextos donde es más riesgoso dejar pasar un fraude que revisar una alerta falsa.  \n",
    "- A diferencia de Random Forest, LightGBM entrena en menor tiempo y puede escalar mejor con grandes volúmenes de datos.\n",
    "\n",
    "**Conclusión:**\n",
    "LightGBM demuestra un rendimiento **sólido y balanceado**, con ligera mejora en la sensibilidad respecto a Random Forest.  \n",
    "A pesar de un leve incremento en falsos positivos, su capacidad de detección y eficiencia lo convierten en una opción competitiva para sistemas de monitoreo de fraude en tiempo real.\n",
    "\n",
    "En la siguiente etapa se evaluará el modelo **CatBoost**, con el objetivo de comparar su rendimiento y estabilidad frente a los modelos anteriores.\n"
   ]
  },
  {
   "cell_type": "markdown",
   "metadata": {},
   "source": [
    "## Modelo CatBoost\n",
    "\n",
    "**CatBoost** es un algoritmo de boosting que suele ser robusto con clases desbalanceadas y funciona bien con features numéricas.  \n",
    "Para compensar el desbalance, se utiliza `class_weights` asignando mayor peso a la clase de fraude.  \n",
    "Se entrena con *early stopping* para evitar sobreajuste y reducir el tiempo de cómputo.\n",
    "\n",
    "**Métricas a reportar:**\n",
    "- ROC-AUC  \n",
    "- PR-AUC  \n",
    "- Classification report (precision, recall, f1 por clase)  \n",
    "- Matriz de confusión\n"
   ]
  },
  {
   "cell_type": "code",
   "execution_count": 42,
   "metadata": {},
   "outputs": [
    {
     "name": "stdout",
     "output_type": "stream",
     "text": [
      "ROC-AUC: 0.9769577161735428\n",
      "PR-AUC : 0.7922457873724081\n",
      "\n",
      "Classification Report:\n",
      "               precision    recall  f1-score   support\n",
      "\n",
      "           0     0.9997    0.9993    0.9995     56651\n",
      "           1     0.6754    0.8105    0.7368        95\n",
      "\n",
      "    accuracy                         0.9990     56746\n",
      "   macro avg     0.8376    0.9049    0.8682     56746\n",
      "weighted avg     0.9991    0.9990    0.9991     56746\n",
      "\n"
     ]
    },
    {
     "data": {
      "image/png": "[encoded data removed]",
      "text/plain": [
       "<Figure size 400x300 with 2 Axes>"
      ]
     },
     "metadata": {},
     "output_type": "display_data"
    }
   ],
   "source": [
    "from catboost import CatBoostClassifier\n",
    "from sklearn.metrics import (\n",
    "    roc_auc_score, \n",
    "    average_precision_score, \n",
    "    classification_report, \n",
    "    confusion_matrix\n",
    ")\n",
    "import numpy as np\n",
    "import matplotlib.pyplot as plt\n",
    "import seaborn as sns\n",
    "\n",
    "# Peso para la clase minoritaria: ratio de negativos/positivos en TRAIN\n",
    "pos = (y_train == 1).sum()\n",
    "neg = (y_train == 0).sum()\n",
    "scale_pos_weight = neg / max(pos, 1)  # evitar división por cero\n",
    "\n",
    "# Modelo CatBoost (rápido + early stopping)\n",
    "cat_model = CatBoostClassifier(\n",
    "    iterations=300,            # número razonable con early stopping\n",
    "    learning_rate=0.05,\n",
    "    depth=6,\n",
    "    l2_leaf_reg=3,\n",
    "    loss_function=\"Logloss\",\n",
    "    eval_metric=\"PRAUC\",       # nos interesa PR-AUC en desbalance\n",
    "    class_weights=[1.0, scale_pos_weight],  # [peso_clase_0, peso_clase_1]\n",
    "    random_state=RANDOM_STATE,\n",
    "    verbose=False\n",
    ")\n",
    "\n",
    "# Entrenamiento con early stopping usando el set de validación (test) para simplicidad\n",
    "cat_model.fit(\n",
    "    X_train, y_train,\n",
    "    eval_set=(X_test, y_test),\n",
    "    use_best_model=True,\n",
    "    early_stopping_rounds=50\n",
    ")\n",
    "\n",
    "# Predicciones\n",
    "y_proba_cat = cat_model.predict_proba(X_test)[:, 1]\n",
    "y_pred_cat  = (y_proba_cat >= 0.5).astype(int)\n",
    "\n",
    "# Métricas\n",
    "roc_auc = roc_auc_score(y_test, y_proba_cat)\n",
    "pr_auc  = average_precision_score(y_test, y_proba_cat)\n",
    "\n",
    "print(f\"ROC-AUC: {roc_auc}\")\n",
    "print(f\"PR-AUC : {pr_auc}\\n\")\n",
    "print(\"Classification Report:\\n\", classification_report(y_test, y_pred_cat, digits=4))\n",
    "\n",
    "# Matriz de confusión\n",
    "cm = confusion_matrix(y_test, y_pred_cat)\n",
    "plt.figure(figsize=(4,3))\n",
    "sns.heatmap(cm, annot=True, fmt=\"d\", cmap=\"Blues\")\n",
    "plt.title(\"Matriz de confusión - CatBoost\")\n",
    "plt.xlabel(\"Predicción\")\n",
    "plt.ylabel(\"Real\")\n",
    "plt.show()\n"
   ]
  },
  {
   "cell_type": "markdown",
   "metadata": {},
   "source": [
    "## Resultados del modelo CatBoost\n",
    "\n",
    "El modelo **CatBoost** logró el mejor equilibrio entre *recall* y estabilidad general, mostrando una mayor sensibilidad ante fraudes sin perder completamente la precisión.\n",
    "\n",
    "**Métricas principales:**\n",
    "- **ROC-AUC:** 0.977  \n",
    "- **PR-AUC:** 0.792  \n",
    "- **Precisión (fraudes):** 0.675  \n",
    "- **Recall (fraudes):** 0.810  \n",
    "- **F1-score (fraudes):** 0.737  \n",
    "- **Accuracy general:** 0.999  \n",
    "\n",
    "**Matriz de confusión:**\n",
    "- Verdaderos negativos: 56,614  \n",
    "- Falsos positivos: 37  \n",
    "- Falsos negativos: 18  \n",
    "- Verdaderos positivos: 77  \n",
    "\n",
    "**Análisis:**\n",
    "- CatBoost aumentó significativamente el *recall* (0.81 frente a 0.74 en los modelos anteriores), reduciendo los fraudes no detectados.  \n",
    "- Aunque la precisión bajó ligeramente (0.67), el modelo se volvió más sensible, lo que es ideal en contextos donde **es preferible generar una alerta falsa a dejar pasar un fraude real**.  \n",
    "- Este comportamiento es coherente con la configuración de pesos aplicada para compensar el desbalance de clases.  \n",
    "- El ligero aumento en falsos positivos es un intercambio razonable considerando el propósito del modelo.\n",
    "\n",
    "**Conclusión:**\n",
    "CatBoost demuestra un **mejor equilibrio entre precisión y sensibilidad**, convirtiéndose en el modelo más adecuado para la detección de fraude dentro de este conjunto de pruebas.  \n",
    "En comparación con Random Forest y LightGBM:\n",
    "- Random Forest → mejor precisión, pero menor recall (más conservador).  \n",
    "- LightGBM → intermedio, rápido y balanceado.  \n",
    "- CatBoost → mayor recall y detección efectiva de fraudes, aunque con más falsas alarmas.\n",
    "\n",
    "En la siguiente sección se presentará una **comparativa final entre modelos** para seleccionar el más apropiado según los objetivos del sistema de detección.\n"
   ]
  },
  {
   "cell_type": "markdown",
   "metadata": {},
   "source": [
    "## Comparativa final de modelos\n",
    "\n",
    "A continuación se resumen los principales resultados obtenidos con los tres modelos de clasificación: **Random Forest**, **LightGBM** y **CatBoost**.  \n",
    "\n",
    "| Modelo        | ROC-AUC | PR-AUC | Precisión (fraudes) | Recall (fraudes) | F1-score (fraudes) | Falsos negativos | Falsos positivos |\n",
    "|----------------|:-------:|:-------:|:-------------------:|:----------------:|:------------------:|:----------------:|:----------------:|\n",
    "| **Random Forest** | 0.966 | 0.819 | 0.947 | 0.747 | 0.835 | 24 | 4 |\n",
    "| **LightGBM**      | 0.973 | 0.818 | 0.899 | 0.747 | 0.816 | 24 | 8 |\n",
    "| **CatBoost**      | 0.977 | 0.792 | 0.675 | **0.810** | 0.737 | **18** | 37 |\n",
    "\n",
    "**Análisis comparativo:**\n",
    "- Los tres modelos alcanzaron una **precisión global cercana al 99.9%**, lo que indica un rendimiento sobresaliente sobre el conjunto de datos.  \n",
    "- **CatBoost** logró el *mayor recall* (0.81), reduciendo los fraudes no detectados, aunque a costa de una caída en precisión (0.67) y un ligero aumento en falsos positivos.  \n",
    "- **Random Forest** obtuvo el *mejor balance entre precisión y F1-score*, pero su menor recall muestra que puede pasar por alto algunos fraudes.  \n",
    "- **LightGBM** se comportó como un punto medio entre ambos: rápido, estable y con resultados equilibrados.  \n",
    "\n",
    "**Conclusión general:**\n",
    "- En un entorno real de detección de fraude, donde **es más crítico no dejar escapar un fraude que revisar una alerta falsa**, **CatBoost** se perfila como la opción más adecuada.  \n",
    "- Si el objetivo fuera **minimizar falsas alarmas**, **Random Forest** sería preferible.  \n",
    "- En términos de eficiencia y escalabilidad, **LightGBM** ofrece una excelente alternativa intermedia.\n",
    "\n",
    "El análisis evidencia cómo diferentes algoritmos responden de forma distinta ante el desbalance de clases, resaltando la importancia de seleccionar el modelo según la prioridad del negocio: **precisión o sensibilidad ante el fraude**.\n"
   ]
  },
  {
   "cell_type": "markdown",
   "metadata": {},
   "source": [
    "## Conclusiones finales y próximos pasos\n",
    "\n",
    "El análisis permitió desarrollar y comparar tres modelos predictivos para la **detección de fraude en transacciones con tarjeta de crédito**, utilizando un dataset real y altamente desbalanceado.\n",
    "\n",
    "### 💡 Principales hallazgos:\n",
    "- El **desbalance extremo de clases (0.17% de fraudes)** fue el mayor reto del proyecto, obligando a utilizar técnicas como `class_weight='balanced'` para compensar la falta de datos positivos.\n",
    "- Los modelos **tree-based** (Random Forest, LightGBM y CatBoost) demostraron ser los más adecuados para este tipo de problema, ya que manejan bien la no linealidad y la escala de los datos sin requerir normalización.\n",
    "- El desempeño fue consistentemente alto en todos los modelos (**ROC-AUC > 0.96**), lo que indica una fuerte capacidad de discriminación entre transacciones legítimas y fraudulentas.\n",
    "\n",
    "### 📊 Comparativa general:\n",
    "- **Random Forest:** más preciso y conservador, pero con menor *recall* (detecta menos fraudes).  \n",
    "- **LightGBM:** equilibrio entre precisión y *recall*, ideal para entornos con alto volumen de datos.  \n",
    "- **CatBoost:** el mejor *recall* (81%), priorizando la detección de fraudes aun con un leve aumento en falsos positivos.  \n",
    "\n",
    "### 🚀 Conclusión:\n",
    "El modelo **CatBoost** es el más adecuado para este caso de uso, ya que **maximiza la detección de fraudes**, objetivo clave en sistemas de monitoreo financiero.  \n",
    "Aunque introduce más alertas falsas, este comportamiento es aceptable cuando el costo de pasar por alto un fraude es mayor que el de revisar manualmente una transacción legítima.\n",
    "\n",
    "### 🔍 Próximos pasos:\n",
    "- Implementar un **ajuste dinámico del umbral de decisión** para optimizar el balance entre precisión y *recall* según las necesidades del negocio.  \n",
    "- Explorar técnicas avanzadas de **resampling inteligente** (SMOTE, ADASYN o undersampling estratégico) para mejorar la representación de la clase minoritaria.  \n",
    "- Probar enfoques de **detección no supervisada** (como Isolation Forest o Autoencoders) que identifiquen anomalías sin etiquetas.  \n",
    "- Integrar el modelo en un flujo de producción para evaluación en tiempo real y actualización continua.\n",
    "\n",
    "---\n",
    "\n",
    "**Conclusión general:**  \n",
    "Este proyecto demuestra un proceso completo de **detección de fraude con Machine Learning**, desde la exploración de datos hasta la evaluación comparativa de modelos.  \n",
    "Además de su valor técnico, resalta la importancia de equilibrar la precisión con la sensibilidad del modelo, especialmente en problemas donde cada predicción tiene un impacto financiero real.\n"
   ]
  }
 ],
 "metadata": {
  "kernelspec": {
   "display_name": "base",
   "language": "python",
   "name": "python3"
  },
  "language_info": {
   "codemirror_mode": {
    "name": "ipython",
    "version": 3
   },
   "file_extension": ".py",
   "mimetype": "text/x-python",
   "name": "python",
   "nbconvert_exporter": "python",
   "pygments_lexer": "ipython3",
   "version": "3.12.2"
  }
 },
 "nbformat": 4,
 "nbformat_minor": 2
}
